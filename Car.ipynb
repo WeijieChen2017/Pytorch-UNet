{
 "cells": [
  {
   "cell_type": "code",
   "execution_count": 9,
   "metadata": {},
   "outputs": [],
   "source": [
    "from scipy.ndimage import zoom\n",
    "import nibabel as nib\n",
    "import pydicom as dicom\n",
    "import numpy as np\n",
    "import imageio\n",
    "import glob\n",
    "import cv2\n",
    "import os"
   ]
  },
  {
   "cell_type": "code",
   "execution_count": 4,
   "metadata": {},
   "outputs": [],
   "source": [
    "def createAB(dataA, dataB, name_dataset, chanA=3, chanB=1):\n",
    "    assert dataA.shape == dataB.shape, (\"DataA should share the same shape with DataB.\")\n",
    "\n",
    "    z, h, w = dataA.shape\n",
    "    qx, qy = (256, 256)\n",
    "    \n",
    "    imgA = np.zeros((qx, qy, chanA))\n",
    "    imgB = np.zeros((qx, qy, chanB))\n",
    "    indexA = create_index(dataA, chanA)\n",
    "    indexB = create_index(dataB, chanB)\n",
    "    \n",
    "    for idx_z in range(z):\n",
    "        for idx_a in range(chanA):\n",
    "            imgA[:, :, idx_a] = zoom(dataA[int(indexA[idx_z, idx_a]), :, :], (qx/h, qy/w))\n",
    "        for idx_b in range(chanB):\n",
    "            imgB[:, :, idx_b] = zoom(dataB[int(indexB[idx_z, idx_b]), :, :], (qx/h, qy/w))\n",
    "        \n",
    "        save_path_A = \"./data/imgs/\"+name_dataset+\"{:0>3d}\".format(idx_z+1)+\".png\"\n",
    "        save_path_B = \"./data/masks/\"+name_dataset+\"{:0>3d}\".format(idx_z+1)+\".png\"\n",
    "        \n",
    "        cv2.imwrite(save_path_A, imgA)\n",
    "        cv2.imwrite(save_path_B, imgB*255)\n",
    "        \n",
    "    print(str(z)+\" images have been saved.\")"
   ]
  },
  {
   "cell_type": "code",
   "execution_count": 14,
   "metadata": {},
   "outputs": [],
   "source": [
    "car_list = glob.glob(\"./data/task2_car/data/*.jpg\")\n",
    "car_list.sort()\n",
    "for car_path in car_list:\n",
    "    car_name = os.path.basename(car_path)[:-4]\n",
    "    mask_path = \"./data/task2_car/mask/\"+car_name+\"_mask.gif\"\n",
    "    \n",
    "    car_data = imageio.imread(car_path)\n",
    "    mask_data = imageio.imread(mask_path)\n",
    "    \n",
    "    save_path_car = \"./data/imgs/\"+car_name+\".png\"\n",
    "    save_path_mask = \"./data/masks/\"+car_name+\".png\"\n",
    "    \n",
    "    px, py = mask_data.shape\n",
    "    qx, qy = (256, 256)\n",
    "    \n",
    "    cv2.imwrite(save_path_car, zoom(car_data, (qx/px, qy/py, 1)))\n",
    "    cv2.imwrite(save_path_mask, zoom(mask_data, (qx/px, qy/py)))"
   ]
  },
  {
   "cell_type": "code",
   "execution_count": null,
   "metadata": {},
   "outputs": [],
   "source": []
  },
  {
   "cell_type": "code",
   "execution_count": 56,
   "metadata": {},
   "outputs": [],
   "source": [
    "def load_dcm(tag=\"data\", idx=1):\n",
    "    \n",
    "    dcm_path = \n",
    "    dcm_file = dicom.dcmread(dcm_path)\n",
    "    dcm_data = dcm_file.pixel_array\n",
    "    dcm_shape = dcm_data.shape\n",
    "    print(tag, dcm_data[:dcm_shape[0]//2, :, :].shape)\n",
    "    return dcm_data[:dcm_shape[0]//2, :, :]"
   ]
  },
  {
   "cell_type": "code",
   "execution_count": 57,
   "metadata": {},
   "outputs": [
    {
     "name": "stdout",
     "output_type": "stream",
     "text": [
      "data (466, 253, 353)\n",
      "mask (466, 253, 353)\n"
     ]
    },
    {
     "name": "stderr",
     "output_type": "stream",
     "text": [
      "/home/wxc321/.conda/envs/pytorch/lib/python3.7/site-packages/scipy/ndimage/interpolation.py:611: UserWarning: From scipy 0.13.0, the output shape of zoom() is calculated with round() instead of int() - for these inputs the size of the returned array has changed.\n",
      "  \"the returned array has changed.\", UserWarning)\n"
     ]
    },
    {
     "name": "stdout",
     "output_type": "stream",
     "text": [
      "466 images have been saved.\n",
      "data (471, 258, 344)\n",
      "mask (471, 258, 344)\n",
      "471 images have been saved.\n",
      "data (529, 247, 319)\n",
      "mask (529, 247, 319)\n",
      "529 images have been saved.\n",
      "data (560, 232, 321)\n",
      "mask (560, 232, 321)\n",
      "560 images have been saved.\n",
      "data (479, 242, 360)\n",
      "mask (479, 242, 360)\n",
      "479 images have been saved.\n",
      "data (532, 277, 284)\n",
      "mask (532, 277, 284)\n",
      "532 images have been saved.\n",
      "data (567, 236, 312)\n",
      "mask (567, 236, 312)\n",
      "567 images have been saved.\n",
      "data (530, 277, 286)\n",
      "mask (530, 277, 286)\n",
      "530 images have been saved.\n",
      "data (464, 283, 319)\n",
      "mask (464, 283, 319)\n",
      "464 images have been saved.\n",
      "data (446, 253, 370)\n",
      "mask (446, 253, 370)\n",
      "446 images have been saved.\n",
      "data (502, 258, 322)\n",
      "mask (502, 258, 322)\n",
      "502 images have been saved.\n",
      "data (484, 272, 318)\n",
      "mask (484, 272, 318)\n",
      "484 images have been saved.\n",
      "data (406, 275, 373)\n",
      "mask (406, 275, 373)\n",
      "406 images have been saved.\n",
      "data (378, 255, 433)\n",
      "mask (378, 255, 433)\n",
      "378 images have been saved.\n",
      "data (397, 316, 333)\n",
      "mask (397, 316, 333)\n",
      "397 images have been saved.\n",
      "data (382, 309, 354)\n",
      "mask (382, 309, 354)\n",
      "382 images have been saved.\n"
     ]
    }
   ],
   "source": [
    "for idx in range(16):\n",
    "    tag = \"D\"+\"{:0>2d}\".format(idx+1)+\"_\"   \n",
    "    createAB(load_dcm(\"data\", idx), load_dcm(\"mask\", idx), tag)"
   ]
  },
  {
   "cell_type": "code",
   "execution_count": null,
   "metadata": {},
   "outputs": [],
   "source": []
  }
 ],
 "metadata": {
  "kernelspec": {
   "display_name": "Python 3",
   "language": "python",
   "name": "python3"
  },
  "language_info": {
   "codemirror_mode": {
    "name": "ipython",
    "version": 3
   },
   "file_extension": ".py",
   "mimetype": "text/x-python",
   "name": "python",
   "nbconvert_exporter": "python",
   "pygments_lexer": "ipython3",
   "version": "3.7.3"
  }
 },
 "nbformat": 4,
 "nbformat_minor": 4
}
